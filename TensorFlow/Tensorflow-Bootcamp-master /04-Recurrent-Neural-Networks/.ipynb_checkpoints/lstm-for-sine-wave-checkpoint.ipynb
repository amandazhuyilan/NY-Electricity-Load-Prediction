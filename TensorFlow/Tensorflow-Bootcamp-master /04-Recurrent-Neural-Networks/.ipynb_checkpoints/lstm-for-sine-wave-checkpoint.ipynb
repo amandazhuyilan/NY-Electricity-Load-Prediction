{
 "cells": [
  {
   "cell_type": "markdown",
   "metadata": {},
   "source": [
    "## Libraries\n",
    "\n",
    "- numpy: package for scientific computing \n",
    "- matplotlib: 2D plotting library\n",
    "- tensorflow: open source software library for machine intelligence\n",
    "- **learn**: Simplified interface for TensorFlow (mimicking Scikit Learn) for Deep Learning\n",
    "- mse: \"mean squared error\" as evaluation metric\n",
    "- **lstm_predictor**: our lstm class "
   ]
  },
  {
   "cell_type": "code",
   "execution_count": 1,
   "metadata": {
    "collapsed": true
   },
   "outputs": [],
   "source": [
    "%matplotlib inline\n",
    "import numpy as np\n",
    "from matplotlib import pyplot as plt\n",
    "\n",
    "from tensorflow.contrib import learn\n",
    "from sklearn.metrics import mean_squared_error, mean_absolute_error\n",
    "from lstm_predictor import generate_data, lstm_model"
   ]
  },
  {
   "cell_type": "markdown",
   "metadata": {},
   "source": [
    "## Parameter definitions\n",
    "\n",
    "- LOG_DIR: log file\n",
    "- TIMESTEPS: RNN time steps\n",
    "- RNN_LAYERS: RNN layer information\n",
    "- DENSE_LAYERS: Size of DNN,  [10, 10]: Two dense layer with 10 hidden units\n",
    "- TRAINING_STEPS\n",
    "- BATCH_SIZE\n",
    "- PRINT_STEPS"
   ]
  },
  {
   "cell_type": "code",
   "execution_count": 2,
   "metadata": {
    "collapsed": true
   },
   "outputs": [],
   "source": [
    "LOG_DIR = './ops_logs'\n",
    "TIMESTEPS = 5\n",
    "RNN_LAYERS = [{'steps': TIMESTEPS}]\n",
    "DENSE_LAYERS = [10, 10]\n",
    "TRAINING_STEPS = 100000\n",
    "BATCH_SIZE = 100\n",
    "PRINT_STEPS = TRAINING_STEPS / 100"
   ]
  },
  {
   "cell_type": "markdown",
   "metadata": {},
   "source": [
    "## Generate waveform\n",
    " - fct: function\n",
    " - x: observation\n",
    " - time_steps\n",
    " - seperate: check multimodal"
   ]
  },
  {
   "cell_type": "code",
   "execution_count": 3,
   "metadata": {
    "collapsed": true
   },
   "outputs": [],
   "source": [
    "X, y = generate_data(np.sin, np.linspace(0, 100, 10000), TIMESTEPS, seperate=False)"
   ]
  },
  {
   "cell_type": "markdown",
   "metadata": {},
   "source": [
    "## Create a regressor with TF Learn\n",
    "**Parameters**: \n",
    "- model_fn: regression model\n",
    "- n_classes: 0 for regression\n",
    "- verbose\n",
    "- steps: training steps\n",
    "- optimizer: (\"SGD\", \"Adam\", \"Adagrad\")\n",
    "- learning_rate\n",
    "- batch_size"
   ]
  },
  {
   "cell_type": "code",
   "execution_count": 4,
   "metadata": {
    "collapsed": true
   },
   "outputs": [],
   "source": [
    "regressor = learn.TensorFlowEstimator(model_fn=lstm_model(TIMESTEPS, RNN_LAYERS, DENSE_LAYERS), \n",
    "                                      n_classes=0,\n",
    "                                      verbose=1,  \n",
    "                                      steps=TRAINING_STEPS, \n",
    "                                      optimizer='Adagrad',\n",
    "                                      learning_rate=0.03, \n",
    "                                      batch_size=BATCH_SIZE)"
   ]
  },
  {
   "cell_type": "markdown",
   "metadata": {},
   "source": [
    "## ValidationMonitor\n",
    " - x\n",
    " - y\n",
    " - every_n_steps\n",
    " - early_stopping_rounds"
   ]
  },
  {
   "cell_type": "code",
   "execution_count": 5,
   "metadata": {
    "collapsed": true
   },
   "outputs": [],
   "source": [
    "validation_monitor = learn.monitors.ValidationMonitor(X['val'], y['val'],\n",
    "                                                      every_n_steps=PRINT_STEPS,\n",
    "                                                      early_stopping_rounds=1000)"
   ]
  },
  {
   "cell_type": "markdown",
   "metadata": {},
   "source": [
    "## Train and validation\n",
    "\n",
    "- fit: fitting using training data"
   ]
  },
  {
   "cell_type": "code",
   "execution_count": 6,
   "metadata": {
    "scrolled": true
   },
   "outputs": [
    {
     "name": "stderr",
     "output_type": "stream",
     "text": [
      "WARNING:tensorflow:Input iterator is exhausted: .\n",
      "WARNING:tensorflow:Input iterator is exhausted: .\n"
     ]
    },
    {
     "data": {
      "text/plain": [
       "TensorFlowEstimator(steps=100000, optimizer=Adagrad, learning_rate=0.03, batch_size=100, n_classes=0, verbose=1, class_weight=None, continue_training=False, clip_gradients=5.0, params=None)"
      ]
     },
     "execution_count": 6,
     "metadata": {},
     "output_type": "execute_result"
    }
   ],
   "source": [
    "regressor.fit(X['train'], y['train'], monitors=[validation_monitor], logdir=LOG_DIR)"
   ]
  },
  {
   "cell_type": "markdown",
   "metadata": {},
   "source": [
    "## Evaluate using test set\n",
    "\n",
    "Evaluate our hypothesis using test set. The mean squared error (MSE) is used for the evaluation metric.\n"
   ]
  },
  {
   "cell_type": "code",
   "execution_count": 7,
   "metadata": {},
   "outputs": [
    {
     "name": "stdout",
     "output_type": "stream",
     "text": [
      "Error: 0.000294\n"
     ]
    }
   ],
   "source": [
    "predicted = regressor.predict(X['test'])\n",
    "mse = mean_squared_error(y['test'], predicted)\n",
    "print (\"Error: %f\" % mse)"
   ]
  },
  {
   "cell_type": "markdown",
   "metadata": {},
   "source": [
    "## Plotting\n",
    "\n",
    "Then, plot both predicted values and original values from test set."
   ]
  },
  {
   "cell_type": "code",
   "execution_count": 8,
   "metadata": {},
   "outputs": [
    {
     "data": {
      "text/plain": [
       "<matplotlib.legend.Legend at 0x10ff530f0>"
      ]
     },
     "execution_count": 8,
     "metadata": {},
     "output_type": "execute_result"
    },
    {
     "data": {
      "image/png": "[encoded data removed]",
      "text/plain": [
       "<matplotlib.figure.Figure at 0x103f1cac8>"
      ]
     },
     "metadata": {},
     "output_type": "display_data"
    }
   ],
   "source": [
    "plot_predicted, = plt.plot(predicted, label='predicted')\n",
    "plot_test, = plt.plot(y['test'], label='test')\n",
    "plt.legend(handles=[plot_predicted, plot_test])"
   ]
  }
 ],
 "metadata": {
  "kernelspec": {
   "display_name": "Python 3",
   "language": "python",
   "name": "python3"
  },
  "language_info": {
   "codemirror_mode": {
    "name": "ipython",
    "version": 3
   },
   "file_extension": ".py",
   "mimetype": "text/x-python",
   "name": "python",
   "nbconvert_exporter": "python",
   "pygments_lexer": "ipython3",
   "version": "3.5.4"
  }
 },
 "nbformat": 4,
 "nbformat_minor": 1
}
