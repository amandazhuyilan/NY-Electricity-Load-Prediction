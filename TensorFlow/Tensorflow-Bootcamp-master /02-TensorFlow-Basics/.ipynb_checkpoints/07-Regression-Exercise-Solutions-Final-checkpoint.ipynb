{
 "cells": [
  {
   "cell_type": "markdown",
   "metadata": {},
   "source": [
    "# Regression Exercise - Solutions\n",
    "\n",
    "California Housing Data\n",
    "\n",
    "This data set contains information about all the block groups in California from the 1990 Census. In this sample a block group on average includes 1425.5 individuals living in a geographically compact area. \n",
    "\n",
    "The task is to aproximate the median house value of each block from the values of the rest of the variables. \n",
    "\n",
    " It has been obtained from the LIACC repository. The original page where the data set can be found is: http://www.liaad.up.pt/~ltorgo/Regression/DataSets.html.\n",
    " "
   ]
  },
  {
   "cell_type": "markdown",
   "metadata": {
    "collapsed": true
   },
   "source": [
    "The Features:\n",
    " \n",
    "* housingMedianAge: continuous. \n",
    "* totalRooms: continuous. \n",
    "* totalBedrooms: continuous. \n",
    "* population: continuous. \n",
    "* households: continuous. \n",
    "* medianIncome: continuous. \n",
    "* medianHouseValue: continuous. "
   ]
  },
  {
   "cell_type": "markdown",
   "metadata": {},
   "source": [
    "## The Data"
   ]
  },
  {
   "cell_type": "markdown",
   "metadata": {},
   "source": [
    "** Import the cal_housing.csv file with pandas. Separate it into a training (70%) and testing set(30%).**"
   ]
  },
  {
   "cell_type": "code",
   "execution_count": 125,
   "metadata": {
    "collapsed": true
   },
   "outputs": [],
   "source": [
    "import pandas as pd"
   ]
  },
  {
   "cell_type": "code",
   "execution_count": 126,
   "metadata": {
    "collapsed": true
   },
   "outputs": [],
   "source": [
    "housing = pd.read_csv('cal_housing_clean.csv')"
   ]
  },
  {
   "cell_type": "code",
   "execution_count": 127,
   "metadata": {},
   "outputs": [
    {
     "data": {
      "text/html": [
       "<div>\n",
       "<style>\n",
       "    .dataframe thead tr:only-child th {\n",
       "        text-align: right;\n",
       "    }\n",
       "\n",
       "    .dataframe thead th {\n",
       "        text-align: left;\n",
       "    }\n",
       "\n",
       "    .dataframe tbody tr th {\n",
       "        vertical-align: top;\n",
       "    }\n",
       "</style>\n",
       "<table border=\"1\" class=\"dataframe\">\n",
       "  <thead>\n",
       "    <tr style=\"text-align: right;\">\n",
       "      <th></th>\n",
       "      <th>housingMedianAge</th>\n",
       "      <th>totalRooms</th>\n",
       "      <th>totalBedrooms</th>\n",
       "      <th>population</th>\n",
       "      <th>households</th>\n",
       "      <th>medianIncome</th>\n",
       "      <th>medianHouseValue</th>\n",
       "    </tr>\n",
       "  </thead>\n",
       "  <tbody>\n",
       "    <tr>\n",
       "      <th>0</th>\n",
       "      <td>41.0</td>\n",
       "      <td>880.0</td>\n",
       "      <td>129.0</td>\n",
       "      <td>322.0</td>\n",
       "      <td>126.0</td>\n",
       "      <td>8.3252</td>\n",
       "      <td>452600.0</td>\n",
       "    </tr>\n",
       "    <tr>\n",
       "      <th>1</th>\n",
       "      <td>21.0</td>\n",
       "      <td>7099.0</td>\n",
       "      <td>1106.0</td>\n",
       "      <td>2401.0</td>\n",
       "      <td>1138.0</td>\n",
       "      <td>8.3014</td>\n",
       "      <td>358500.0</td>\n",
       "    </tr>\n",
       "    <tr>\n",
       "      <th>2</th>\n",
       "      <td>52.0</td>\n",
       "      <td>1467.0</td>\n",
       "      <td>190.0</td>\n",
       "      <td>496.0</td>\n",
       "      <td>177.0</td>\n",
       "      <td>7.2574</td>\n",
       "      <td>352100.0</td>\n",
       "    </tr>\n",
       "    <tr>\n",
       "      <th>3</th>\n",
       "      <td>52.0</td>\n",
       "      <td>1274.0</td>\n",
       "      <td>235.0</td>\n",
       "      <td>558.0</td>\n",
       "      <td>219.0</td>\n",
       "      <td>5.6431</td>\n",
       "      <td>341300.0</td>\n",
       "    </tr>\n",
       "    <tr>\n",
       "      <th>4</th>\n",
       "      <td>52.0</td>\n",
       "      <td>1627.0</td>\n",
       "      <td>280.0</td>\n",
       "      <td>565.0</td>\n",
       "      <td>259.0</td>\n",
       "      <td>3.8462</td>\n",
       "      <td>342200.0</td>\n",
       "    </tr>\n",
       "  </tbody>\n",
       "</table>\n",
       "</div>"
      ],
      "text/plain": [
       "   housingMedianAge  totalRooms  totalBedrooms  population  households  \\\n",
       "0              41.0       880.0          129.0       322.0       126.0   \n",
       "1              21.0      7099.0         1106.0      2401.0      1138.0   \n",
       "2              52.0      1467.0          190.0       496.0       177.0   \n",
       "3              52.0      1274.0          235.0       558.0       219.0   \n",
       "4              52.0      1627.0          280.0       565.0       259.0   \n",
       "\n",
       "   medianIncome  medianHouseValue  \n",
       "0        8.3252          452600.0  \n",
       "1        8.3014          358500.0  \n",
       "2        7.2574          352100.0  \n",
       "3        5.6431          341300.0  \n",
       "4        3.8462          342200.0  "
      ]
     },
     "execution_count": 127,
     "metadata": {},
     "output_type": "execute_result"
    }
   ],
   "source": [
    "housing.head()"
   ]
  },
  {
   "cell_type": "code",
   "execution_count": 128,
   "metadata": {},
   "outputs": [
    {
     "data": {
      "text/html": [
       "<div>\n",
       "<style>\n",
       "    .dataframe thead tr:only-child th {\n",
       "        text-align: right;\n",
       "    }\n",
       "\n",
       "    .dataframe thead th {\n",
       "        text-align: left;\n",
       "    }\n",
       "\n",
       "    .dataframe tbody tr th {\n",
       "        vertical-align: top;\n",
       "    }\n",
       "</style>\n",
       "<table border=\"1\" class=\"dataframe\">\n",
       "  <thead>\n",
       "    <tr style=\"text-align: right;\">\n",
       "      <th></th>\n",
       "      <th>count</th>\n",
       "      <th>mean</th>\n",
       "      <th>std</th>\n",
       "      <th>min</th>\n",
       "      <th>25%</th>\n",
       "      <th>50%</th>\n",
       "      <th>75%</th>\n",
       "      <th>max</th>\n",
       "    </tr>\n",
       "  </thead>\n",
       "  <tbody>\n",
       "    <tr>\n",
       "      <th>housingMedianAge</th>\n",
       "      <td>20640.0</td>\n",
       "      <td>28.639486</td>\n",
       "      <td>12.585558</td>\n",
       "      <td>1.0000</td>\n",
       "      <td>18.0000</td>\n",
       "      <td>29.0000</td>\n",
       "      <td>37.00000</td>\n",
       "      <td>52.0000</td>\n",
       "    </tr>\n",
       "    <tr>\n",
       "      <th>totalRooms</th>\n",
       "      <td>20640.0</td>\n",
       "      <td>2635.763081</td>\n",
       "      <td>2181.615252</td>\n",
       "      <td>2.0000</td>\n",
       "      <td>1447.7500</td>\n",
       "      <td>2127.0000</td>\n",
       "      <td>3148.00000</td>\n",
       "      <td>39320.0000</td>\n",
       "    </tr>\n",
       "    <tr>\n",
       "      <th>totalBedrooms</th>\n",
       "      <td>20640.0</td>\n",
       "      <td>537.898014</td>\n",
       "      <td>421.247906</td>\n",
       "      <td>1.0000</td>\n",
       "      <td>295.0000</td>\n",
       "      <td>435.0000</td>\n",
       "      <td>647.00000</td>\n",
       "      <td>6445.0000</td>\n",
       "    </tr>\n",
       "    <tr>\n",
       "      <th>population</th>\n",
       "      <td>20640.0</td>\n",
       "      <td>1425.476744</td>\n",
       "      <td>1132.462122</td>\n",
       "      <td>3.0000</td>\n",
       "      <td>787.0000</td>\n",
       "      <td>1166.0000</td>\n",
       "      <td>1725.00000</td>\n",
       "      <td>35682.0000</td>\n",
       "    </tr>\n",
       "    <tr>\n",
       "      <th>households</th>\n",
       "      <td>20640.0</td>\n",
       "      <td>499.539680</td>\n",
       "      <td>382.329753</td>\n",
       "      <td>1.0000</td>\n",
       "      <td>280.0000</td>\n",
       "      <td>409.0000</td>\n",
       "      <td>605.00000</td>\n",
       "      <td>6082.0000</td>\n",
       "    </tr>\n",
       "    <tr>\n",
       "      <th>medianIncome</th>\n",
       "      <td>20640.0</td>\n",
       "      <td>3.870671</td>\n",
       "      <td>1.899822</td>\n",
       "      <td>0.4999</td>\n",
       "      <td>2.5634</td>\n",
       "      <td>3.5348</td>\n",
       "      <td>4.74325</td>\n",
       "      <td>15.0001</td>\n",
       "    </tr>\n",
       "    <tr>\n",
       "      <th>medianHouseValue</th>\n",
       "      <td>20640.0</td>\n",
       "      <td>206855.816909</td>\n",
       "      <td>115395.615874</td>\n",
       "      <td>14999.0000</td>\n",
       "      <td>119600.0000</td>\n",
       "      <td>179700.0000</td>\n",
       "      <td>264725.00000</td>\n",
       "      <td>500001.0000</td>\n",
       "    </tr>\n",
       "  </tbody>\n",
       "</table>\n",
       "</div>"
      ],
      "text/plain": [
       "                    count           mean            std         min  \\\n",
       "housingMedianAge  20640.0      28.639486      12.585558      1.0000   \n",
       "totalRooms        20640.0    2635.763081    2181.615252      2.0000   \n",
       "totalBedrooms     20640.0     537.898014     421.247906      1.0000   \n",
       "population        20640.0    1425.476744    1132.462122      3.0000   \n",
       "households        20640.0     499.539680     382.329753      1.0000   \n",
       "medianIncome      20640.0       3.870671       1.899822      0.4999   \n",
       "medianHouseValue  20640.0  206855.816909  115395.615874  14999.0000   \n",
       "\n",
       "                          25%          50%           75%          max  \n",
       "housingMedianAge      18.0000      29.0000      37.00000      52.0000  \n",
       "totalRooms          1447.7500    2127.0000    3148.00000   39320.0000  \n",
       "totalBedrooms        295.0000     435.0000     647.00000    6445.0000  \n",
       "population           787.0000    1166.0000    1725.00000   35682.0000  \n",
       "households           280.0000     409.0000     605.00000    6082.0000  \n",
       "medianIncome           2.5634       3.5348       4.74325      15.0001  \n",
       "medianHouseValue  119600.0000  179700.0000  264725.00000  500001.0000  "
      ]
     },
     "execution_count": 128,
     "metadata": {},
     "output_type": "execute_result"
    }
   ],
   "source": [
    "housing.describe().transpose()"
   ]
  },
  {
   "cell_type": "code",
   "execution_count": 129,
   "metadata": {
    "scrolled": true
   },
   "outputs": [],
   "source": [
    "x_data = housing.drop(['medianHouseValue'],axis=1)"
   ]
  },
  {
   "cell_type": "code",
   "execution_count": 130,
   "metadata": {
    "collapsed": true
   },
   "outputs": [],
   "source": [
    "y_val = housing['medianHouseValue']"
   ]
  },
  {
   "cell_type": "code",
   "execution_count": 131,
   "metadata": {
    "collapsed": true
   },
   "outputs": [],
   "source": [
    "from sklearn.model_selection import train_test_split"
   ]
  },
  {
   "cell_type": "code",
   "execution_count": 132,
   "metadata": {},
   "outputs": [],
   "source": [
    "X_train, X_test, y_train, y_test = train_test_split(x_data,y_val,test_size=0.3,random_state=101)"
   ]
  },
  {
   "cell_type": "markdown",
   "metadata": {},
   "source": [
    "### Scale the Feature Data\n",
    "\n",
    "** Use sklearn preprocessing to create a MinMaxScaler for the feature data. Fit this scaler only to the training data. Then use it to transform X_test and X_train. Then use the scaled X_test and X_train along with pd.Dataframe to re-create two dataframes of scaled data.**"
   ]
  },
  {
   "cell_type": "code",
   "execution_count": 133,
   "metadata": {
    "collapsed": true
   },
   "outputs": [],
   "source": [
    "from sklearn.preprocessing import MinMaxScaler"
   ]
  },
  {
   "cell_type": "code",
   "execution_count": 134,
   "metadata": {
    "collapsed": true
   },
   "outputs": [],
   "source": [
    "scaler = MinMaxScaler()"
   ]
  },
  {
   "cell_type": "code",
   "execution_count": 135,
   "metadata": {},
   "outputs": [
    {
     "data": {
      "text/plain": [
       "MinMaxScaler(copy=True, feature_range=(0, 1))"
      ]
     },
     "execution_count": 135,
     "metadata": {},
     "output_type": "execute_result"
    }
   ],
   "source": [
    "scaler.fit(X_train)"
   ]
  },
  {
   "cell_type": "code",
   "execution_count": 136,
   "metadata": {},
   "outputs": [],
   "source": [
    "X_train = pd.DataFrame(data=scaler.transform(X_train),columns = X_train.columns,index=X_train.index)"
   ]
  },
  {
   "cell_type": "code",
   "execution_count": 137,
   "metadata": {
    "collapsed": true
   },
   "outputs": [],
   "source": [
    "X_test = pd.DataFrame(data=scaler.transform(X_test),columns = X_test.columns,index=X_test.index)"
   ]
  },
  {
   "cell_type": "markdown",
   "metadata": {},
   "source": [
    "### Create Feature Columns\n",
    "\n",
    "** Create the necessary tf.feature_column objects for the estimator. They should all be trated as continuous numeric_columns. **"
   ]
  },
  {
   "cell_type": "code",
   "execution_count": 138,
   "metadata": {},
   "outputs": [
    {
     "data": {
      "text/plain": [
       "Index(['housingMedianAge', 'totalRooms', 'totalBedrooms', 'population',\n",
       "       'households', 'medianIncome', 'medianHouseValue'],\n",
       "      dtype='object')"
      ]
     },
     "execution_count": 138,
     "metadata": {},
     "output_type": "execute_result"
    }
   ],
   "source": [
    "housing.columns"
   ]
  },
  {
   "cell_type": "code",
   "execution_count": 139,
   "metadata": {
    "collapsed": true
   },
   "outputs": [],
   "source": [
    "import tensorflow as tf"
   ]
  },
  {
   "cell_type": "code",
   "execution_count": 140,
   "metadata": {
    "collapsed": true
   },
   "outputs": [],
   "source": [
    "age = tf.feature_column.numeric_column('housingMedianAge')\n",
    "rooms = tf.feature_column.numeric_column('totalRooms')\n",
    "bedrooms = tf.feature_column.numeric_column('totalBedrooms')\n",
    "pop = tf.feature_column.numeric_column('population')\n",
    "households = tf.feature_column.numeric_column('households')\n",
    "income = tf.feature_column.numeric_column('medianIncome')"
   ]
  },
  {
   "cell_type": "code",
   "execution_count": 141,
   "metadata": {
    "collapsed": true
   },
   "outputs": [],
   "source": [
    "feat_cols = [ age,rooms,bedrooms,pop,households,income]"
   ]
  },
  {
   "cell_type": "markdown",
   "metadata": {},
   "source": [
    "** Create the input function for the estimator object. (play around with batch_size and num_epochs)**"
   ]
  },
  {
   "cell_type": "code",
   "execution_count": 142,
   "metadata": {},
   "outputs": [],
   "source": [
    "input_func = tf.estimator.inputs.pandas_input_fn(x=X_train,y=y_train ,batch_size=10,num_epochs=1000,\n",
    "                                            shuffle=True)"
   ]
  },
  {
   "cell_type": "markdown",
   "metadata": {},
   "source": [
    "** Create the estimator model. Use a DNNRegressor. Play around with the hidden units! **"
   ]
  },
  {
   "cell_type": "code",
   "execution_count": 143,
   "metadata": {},
   "outputs": [
    {
     "name": "stdout",
     "output_type": "stream",
     "text": [
      "INFO:tensorflow:Using default config.\n",
      "WARNING:tensorflow:Using temporary folder as model directory: C:\\Users\\Marcial\\AppData\\Local\\Temp\\tmp244d0d44\n",
      "INFO:tensorflow:Using config: {'_session_config': None, '_save_summary_steps': 100, '_keep_checkpoint_max': 5, '_model_dir': 'C:\\\\Users\\\\Marcial\\\\AppData\\\\Local\\\\Temp\\\\tmp244d0d44', '_keep_checkpoint_every_n_hours': 10000, '_log_step_count_steps': 100, '_tf_random_seed': 1, '_save_checkpoints_secs': 600, '_save_checkpoints_steps': None}\n"
     ]
    }
   ],
   "source": [
    "model = tf.estimator.DNNRegressor(hidden_units=[6,6,6],feature_columns=feat_cols)"
   ]
  },
  {
   "cell_type": "markdown",
   "metadata": {},
   "source": [
    "##### ** Train the model for ~1,000 steps. (Later come back to this and train it for more and check for improvement) **"
   ]
  },
  {
   "cell_type": "code",
   "execution_count": 144,
   "metadata": {},
   "outputs": [
    {
     "name": "stdout",
     "output_type": "stream",
     "text": [
      "INFO:tensorflow:Create CheckpointSaverHook.\n",
      "INFO:tensorflow:Saving checkpoints for 1 into C:\\Users\\Marcial\\AppData\\Local\\Temp\\tmp244d0d44\\model.ckpt.\n",
      "INFO:tensorflow:step = 1, loss = 5.68896e+11\n",
      "INFO:tensorflow:global_step/sec: 581.528\n",
      "INFO:tensorflow:step = 101, loss = 5.52951e+11 (0.172 sec)\n",
      "INFO:tensorflow:global_step/sec: 611.865\n",
      "INFO:tensorflow:step = 201, loss = 5.91057e+11 (0.163 sec)\n",
      "INFO:tensorflow:global_step/sec: 619.467\n",
      "INFO:tensorflow:step = 301, loss = 5.48503e+11 (0.162 sec)\n",
      "INFO:tensorflow:global_step/sec: 683.11\n",
      "INFO:tensorflow:step = 401, loss = 1.96651e+11 (0.146 sec)\n",
      "INFO:tensorflow:global_step/sec: 671.59\n",
      "INFO:tensorflow:step = 501, loss = 3.18206e+11 (0.149 sec)\n",
      "INFO:tensorflow:global_step/sec: 680.779\n",
      "INFO:tensorflow:step = 601, loss = 7.34722e+11 (0.147 sec)\n",
      "INFO:tensorflow:global_step/sec: 683.111\n",
      "INFO:tensorflow:step = 701, loss = 6.52219e+11 (0.146 sec)\n",
      "INFO:tensorflow:global_step/sec: 641.376\n",
      "INFO:tensorflow:step = 801, loss = 1.67628e+11 (0.155 sec)\n",
      "INFO:tensorflow:global_step/sec: 595.426\n",
      "INFO:tensorflow:step = 901, loss = 3.40569e+11 (0.168 sec)\n",
      "INFO:tensorflow:global_step/sec: 678.466\n",
      "INFO:tensorflow:step = 1001, loss = 1.4957e+11 (0.147 sec)\n",
      "INFO:tensorflow:global_step/sec: 676.166\n",
      "INFO:tensorflow:step = 1101, loss = 2.99765e+11 (0.147 sec)\n",
      "INFO:tensorflow:global_step/sec: 683.109\n",
      "INFO:tensorflow:step = 1201, loss = 1.18134e+11 (0.147 sec)\n",
      "INFO:tensorflow:global_step/sec: 678.463\n",
      "INFO:tensorflow:step = 1301, loss = 4.19775e+11 (0.147 sec)\n",
      "INFO:tensorflow:global_step/sec: 673.878\n",
      "INFO:tensorflow:step = 1401, loss = 9.50937e+10 (0.148 sec)\n",
      "INFO:tensorflow:global_step/sec: 680.782\n",
      "INFO:tensorflow:step = 1501, loss = 7.97535e+10 (0.147 sec)\n",
      "INFO:tensorflow:global_step/sec: 687.823\n",
      "INFO:tensorflow:step = 1601, loss = 7.43758e+10 (0.145 sec)\n",
      "INFO:tensorflow:global_step/sec: 658.308\n",
      "INFO:tensorflow:step = 1701, loss = 4.21438e+10 (0.152 sec)\n",
      "INFO:tensorflow:global_step/sec: 602.625\n",
      "INFO:tensorflow:step = 1801, loss = 2.94767e+11 (0.166 sec)\n",
      "INFO:tensorflow:global_step/sec: 669.358\n",
      "INFO:tensorflow:step = 1901, loss = 9.65828e+10 (0.149 sec)\n",
      "INFO:tensorflow:global_step/sec: 676.163\n",
      "INFO:tensorflow:step = 2001, loss = 9.45288e+10 (0.148 sec)\n",
      "INFO:tensorflow:global_step/sec: 667.119\n",
      "INFO:tensorflow:step = 2101, loss = 6.37785e+10 (0.150 sec)\n",
      "INFO:tensorflow:global_step/sec: 680.769\n",
      "INFO:tensorflow:step = 2201, loss = 7.37902e+10 (0.146 sec)\n",
      "INFO:tensorflow:global_step/sec: 673.878\n",
      "INFO:tensorflow:step = 2301, loss = 6.8529e+10 (0.148 sec)\n",
      "INFO:tensorflow:global_step/sec: 678.463\n",
      "INFO:tensorflow:step = 2401, loss = 2.60072e+11 (0.148 sec)\n",
      "INFO:tensorflow:global_step/sec: 671.612\n",
      "INFO:tensorflow:step = 2501, loss = 4.08405e+10 (0.149 sec)\n",
      "INFO:tensorflow:global_step/sec: 683.109\n",
      "INFO:tensorflow:step = 2601, loss = 8.2585e+10 (0.146 sec)\n",
      "INFO:tensorflow:global_step/sec: 621.398\n",
      "INFO:tensorflow:step = 2701, loss = 1.93861e+11 (0.161 sec)\n",
      "INFO:tensorflow:global_step/sec: 656.143\n",
      "INFO:tensorflow:step = 2801, loss = 1.22862e+11 (0.152 sec)\n",
      "INFO:tensorflow:global_step/sec: 667.092\n",
      "INFO:tensorflow:step = 2901, loss = 1.07041e+11 (0.150 sec)\n",
      "INFO:tensorflow:global_step/sec: 680.783\n",
      "INFO:tensorflow:step = 3001, loss = 8.10357e+10 (0.146 sec)\n",
      "INFO:tensorflow:global_step/sec: 651.853\n",
      "INFO:tensorflow:step = 3101, loss = 1.04205e+11 (0.154 sec)\n",
      "INFO:tensorflow:global_step/sec: 678.462\n",
      "INFO:tensorflow:step = 3201, loss = 1.15509e+11 (0.147 sec)\n",
      "INFO:tensorflow:global_step/sec: 664.898\n",
      "INFO:tensorflow:step = 3301, loss = 1.22119e+11 (0.150 sec)\n",
      "INFO:tensorflow:global_step/sec: 671.608\n",
      "INFO:tensorflow:step = 3401, loss = 1.31626e+11 (0.148 sec)\n",
      "INFO:tensorflow:global_step/sec: 680.782\n",
      "INFO:tensorflow:step = 3501, loss = 7.18527e+10 (0.147 sec)\n",
      "INFO:tensorflow:global_step/sec: 621.397\n",
      "INFO:tensorflow:step = 3601, loss = 1.46789e+11 (0.161 sec)\n",
      "INFO:tensorflow:global_step/sec: 647.601\n",
      "INFO:tensorflow:step = 3701, loss = 8.47148e+10 (0.154 sec)\n",
      "INFO:tensorflow:global_step/sec: 669.355\n",
      "INFO:tensorflow:step = 3801, loss = 1.62093e+11 (0.149 sec)\n",
      "INFO:tensorflow:global_step/sec: 667.111\n",
      "INFO:tensorflow:step = 3901, loss = 1.00475e+11 (0.150 sec)\n",
      "INFO:tensorflow:global_step/sec: 676.164\n",
      "INFO:tensorflow:step = 4001, loss = 1.29159e+11 (0.148 sec)\n",
      "INFO:tensorflow:global_step/sec: 676.161\n",
      "INFO:tensorflow:step = 4101, loss = 2.17452e+11 (0.148 sec)\n",
      "INFO:tensorflow:global_step/sec: 645.505\n",
      "INFO:tensorflow:step = 4201, loss = 2.42384e+11 (0.155 sec)\n",
      "INFO:tensorflow:global_step/sec: 658.298\n",
      "INFO:tensorflow:step = 4301, loss = 4.4548e+10 (0.152 sec)\n",
      "INFO:tensorflow:global_step/sec: 669.353\n",
      "INFO:tensorflow:step = 4401, loss = 6.80362e+10 (0.149 sec)\n",
      "INFO:tensorflow:global_step/sec: 615.646\n",
      "INFO:tensorflow:step = 4501, loss = 1.11679e+11 (0.162 sec)\n",
      "INFO:tensorflow:global_step/sec: 669.358\n",
      "INFO:tensorflow:step = 4601, loss = 6.4636e+10 (0.149 sec)\n",
      "INFO:tensorflow:global_step/sec: 671.612\n",
      "INFO:tensorflow:step = 4701, loss = 5.27234e+10 (0.149 sec)\n",
      "INFO:tensorflow:global_step/sec: 664.893\n",
      "INFO:tensorflow:step = 4801, loss = 1.23856e+11 (0.150 sec)\n",
      "INFO:tensorflow:global_step/sec: 671.61\n",
      "INFO:tensorflow:step = 4901, loss = 7.06492e+10 (0.148 sec)\n",
      "INFO:tensorflow:global_step/sec: 676.161\n",
      "INFO:tensorflow:step = 5001, loss = 6.72092e+10 (0.148 sec)\n",
      "INFO:tensorflow:global_step/sec: 664.891\n",
      "INFO:tensorflow:step = 5101, loss = 6.41032e+10 (0.150 sec)\n",
      "INFO:tensorflow:global_step/sec: 669.354\n",
      "INFO:tensorflow:step = 5201, loss = 5.71987e+10 (0.150 sec)\n",
      "INFO:tensorflow:global_step/sec: 667.12\n",
      "INFO:tensorflow:step = 5301, loss = 7.72789e+10 (0.150 sec)\n",
      "INFO:tensorflow:global_step/sec: 590.144\n",
      "INFO:tensorflow:step = 5401, loss = 6.75083e+10 (0.169 sec)\n",
      "INFO:tensorflow:global_step/sec: 662.683\n",
      "INFO:tensorflow:step = 5501, loss = 1.74011e+11 (0.151 sec)\n",
      "INFO:tensorflow:global_step/sec: 678.462\n",
      "INFO:tensorflow:step = 5601, loss = 1.5761e+11 (0.147 sec)\n",
      "INFO:tensorflow:global_step/sec: 667.118\n",
      "INFO:tensorflow:step = 5701, loss = 4.77042e+10 (0.150 sec)\n",
      "INFO:tensorflow:global_step/sec: 671.612\n",
      "INFO:tensorflow:step = 5801, loss = 9.11984e+10 (0.148 sec)\n",
      "INFO:tensorflow:global_step/sec: 664.894\n",
      "INFO:tensorflow:step = 5901, loss = 8.06788e+10 (0.150 sec)\n",
      "INFO:tensorflow:global_step/sec: 667.116\n",
      "INFO:tensorflow:step = 6001, loss = 1.09098e+11 (0.150 sec)\n",
      "INFO:tensorflow:global_step/sec: 674.141\n",
      "INFO:tensorflow:step = 6101, loss = 5.64201e+10 (0.148 sec)\n",
      "INFO:tensorflow:global_step/sec: 660.49\n",
      "INFO:tensorflow:step = 6201, loss = 7.46827e+10 (0.151 sec)\n",
      "INFO:tensorflow:global_step/sec: 609.995\n",
      "INFO:tensorflow:step = 6301, loss = 2.63389e+11 (0.164 sec)\n",
      "INFO:tensorflow:global_step/sec: 660.492\n",
      "INFO:tensorflow:step = 6401, loss = 1.11202e+11 (0.151 sec)\n",
      "INFO:tensorflow:global_step/sec: 662.662\n",
      "INFO:tensorflow:step = 6501, loss = 3.25186e+10 (0.151 sec)\n",
      "INFO:tensorflow:global_step/sec: 676.166\n",
      "INFO:tensorflow:step = 6601, loss = 5.04853e+10 (0.148 sec)\n",
      "INFO:tensorflow:global_step/sec: 673.878\n",
      "INFO:tensorflow:step = 6701, loss = 1.11964e+11 (0.148 sec)\n",
      "INFO:tensorflow:global_step/sec: 669.358\n",
      "INFO:tensorflow:step = 6801, loss = 8.67505e+10 (0.149 sec)\n",
      "INFO:tensorflow:global_step/sec: 658.311\n",
      "INFO:tensorflow:step = 6901, loss = 1.49481e+11 (0.152 sec)\n",
      "INFO:tensorflow:global_step/sec: 669.356\n",
      "INFO:tensorflow:step = 7001, loss = 1.10759e+11 (0.149 sec)\n",
      "INFO:tensorflow:global_step/sec: 623.339\n",
      "INFO:tensorflow:step = 7101, loss = 1.36751e+11 (0.160 sec)\n",
      "INFO:tensorflow:global_step/sec: 606.287\n",
      "INFO:tensorflow:step = 7201, loss = 3.93489e+10 (0.165 sec)\n",
      "INFO:tensorflow:global_step/sec: 671.609\n",
      "INFO:tensorflow:step = 7301, loss = 2.62178e+10 (0.148 sec)\n",
      "INFO:tensorflow:global_step/sec: 676.132\n",
      "INFO:tensorflow:step = 7401, loss = 5.60514e+10 (0.148 sec)\n",
      "INFO:tensorflow:global_step/sec: 664.938\n",
      "INFO:tensorflow:step = 7501, loss = 6.14047e+10 (0.151 sec)\n",
      "INFO:tensorflow:global_step/sec: 676.166\n",
      "INFO:tensorflow:step = 7601, loss = 1.1274e+11 (0.148 sec)\n",
      "INFO:tensorflow:global_step/sec: 671.61\n",
      "INFO:tensorflow:step = 7701, loss = 1.3928e+11 (0.149 sec)\n",
      "INFO:tensorflow:global_step/sec: 671.611\n",
      "INFO:tensorflow:step = 7801, loss = 5.88718e+10 (0.149 sec)\n",
      "INFO:tensorflow:global_step/sec: 664.894\n",
      "INFO:tensorflow:step = 7901, loss = 1.05752e+11 (0.150 sec)\n",
      "INFO:tensorflow:global_step/sec: 645.528\n",
      "INFO:tensorflow:step = 8001, loss = 8.99248e+10 (0.155 sec)\n"
     ]
    },
    {
     "name": "stdout",
     "output_type": "stream",
     "text": [
      "INFO:tensorflow:global_step/sec: 619.468\n",
      "INFO:tensorflow:step = 8101, loss = 6.23952e+10 (0.161 sec)\n",
      "INFO:tensorflow:global_step/sec: 676.164\n",
      "INFO:tensorflow:step = 8201, loss = 1.45558e+11 (0.148 sec)\n",
      "INFO:tensorflow:global_step/sec: 667.117\n",
      "INFO:tensorflow:step = 8301, loss = 5.34845e+10 (0.149 sec)\n",
      "INFO:tensorflow:global_step/sec: 687.821\n",
      "INFO:tensorflow:step = 8401, loss = 8.33874e+10 (0.145 sec)\n",
      "INFO:tensorflow:global_step/sec: 673.836\n",
      "INFO:tensorflow:step = 8501, loss = 1.16478e+11 (0.149 sec)\n",
      "INFO:tensorflow:global_step/sec: 683.109\n",
      "INFO:tensorflow:step = 8601, loss = 1.72198e+11 (0.146 sec)\n",
      "INFO:tensorflow:global_step/sec: 676.163\n",
      "INFO:tensorflow:step = 8701, loss = 1.35063e+11 (0.148 sec)\n",
      "INFO:tensorflow:global_step/sec: 674.01\n",
      "INFO:tensorflow:step = 8801, loss = 1.63489e+11 (0.148 sec)\n",
      "INFO:tensorflow:global_step/sec: 639.32\n",
      "INFO:tensorflow:step = 8901, loss = 9.24273e+10 (0.156 sec)\n",
      "INFO:tensorflow:global_step/sec: 637.281\n",
      "INFO:tensorflow:step = 9001, loss = 1.02409e+11 (0.157 sec)\n",
      "INFO:tensorflow:global_step/sec: 671.61\n",
      "INFO:tensorflow:step = 9101, loss = 8.10587e+10 (0.148 sec)\n",
      "INFO:tensorflow:global_step/sec: 671.61\n",
      "INFO:tensorflow:step = 9201, loss = 1.55986e+11 (0.149 sec)\n",
      "INFO:tensorflow:global_step/sec: 685.458\n",
      "INFO:tensorflow:step = 9301, loss = 5.02188e+10 (0.146 sec)\n",
      "INFO:tensorflow:global_step/sec: 678.465\n",
      "INFO:tensorflow:step = 9401, loss = 2.5209e+10 (0.147 sec)\n",
      "INFO:tensorflow:global_step/sec: 676.165\n",
      "INFO:tensorflow:step = 9501, loss = 5.85972e+10 (0.148 sec)\n",
      "INFO:tensorflow:global_step/sec: 685.457\n",
      "INFO:tensorflow:step = 9601, loss = 2.1635e+11 (0.146 sec)\n",
      "INFO:tensorflow:global_step/sec: 685.459\n",
      "INFO:tensorflow:step = 9701, loss = 1.35898e+11 (0.146 sec)\n",
      "INFO:tensorflow:global_step/sec: 629.237\n",
      "INFO:tensorflow:step = 9801, loss = 1.25752e+11 (0.159 sec)\n",
      "INFO:tensorflow:global_step/sec: 660.491\n",
      "INFO:tensorflow:step = 9901, loss = 5.87676e+10 (0.151 sec)\n",
      "INFO:tensorflow:global_step/sec: 683.11\n",
      "INFO:tensorflow:step = 10001, loss = 9.59187e+10 (0.146 sec)\n",
      "INFO:tensorflow:global_step/sec: 671.597\n",
      "INFO:tensorflow:step = 10101, loss = 6.46078e+10 (0.149 sec)\n",
      "INFO:tensorflow:global_step/sec: 669.357\n",
      "INFO:tensorflow:step = 10201, loss = 9.63727e+10 (0.149 sec)\n",
      "INFO:tensorflow:global_step/sec: 669.365\n",
      "INFO:tensorflow:step = 10301, loss = 1.95255e+11 (0.149 sec)\n",
      "INFO:tensorflow:global_step/sec: 671.594\n",
      "INFO:tensorflow:step = 10401, loss = 1.04688e+11 (0.149 sec)\n",
      "INFO:tensorflow:global_step/sec: 683.116\n",
      "INFO:tensorflow:step = 10501, loss = 4.65059e+10 (0.146 sec)\n",
      "INFO:tensorflow:global_step/sec: 680.775\n",
      "INFO:tensorflow:step = 10601, loss = 9.29294e+10 (0.147 sec)\n",
      "INFO:tensorflow:global_step/sec: 627.26\n",
      "INFO:tensorflow:step = 10701, loss = 5.7327e+10 (0.159 sec)\n",
      "INFO:tensorflow:global_step/sec: 662.687\n",
      "INFO:tensorflow:step = 10801, loss = 1.20981e+11 (0.151 sec)\n",
      "INFO:tensorflow:global_step/sec: 667.117\n",
      "INFO:tensorflow:step = 10901, loss = 1.37803e+11 (0.150 sec)\n",
      "INFO:tensorflow:global_step/sec: 667.131\n",
      "INFO:tensorflow:step = 11001, loss = 8.51191e+10 (0.150 sec)\n",
      "INFO:tensorflow:global_step/sec: 676.152\n",
      "INFO:tensorflow:step = 11101, loss = 3.58583e+10 (0.148 sec)\n",
      "INFO:tensorflow:global_step/sec: 673.879\n",
      "INFO:tensorflow:step = 11201, loss = 1.79992e+11 (0.148 sec)\n",
      "INFO:tensorflow:global_step/sec: 673.877\n",
      "INFO:tensorflow:step = 11301, loss = 5.87205e+10 (0.148 sec)\n",
      "INFO:tensorflow:global_step/sec: 669.36\n",
      "INFO:tensorflow:step = 11401, loss = 3.06918e+11 (0.150 sec)\n",
      "INFO:tensorflow:global_step/sec: 671.611\n",
      "INFO:tensorflow:step = 11501, loss = 1.39031e+11 (0.149 sec)\n",
      "INFO:tensorflow:global_step/sec: 615.64\n",
      "INFO:tensorflow:step = 11601, loss = 1.33908e+11 (0.162 sec)\n",
      "INFO:tensorflow:global_step/sec: 662.665\n",
      "INFO:tensorflow:step = 11701, loss = 5.29911e+10 (0.150 sec)\n",
      "INFO:tensorflow:global_step/sec: 669.358\n",
      "INFO:tensorflow:step = 11801, loss = 4.43427e+10 (0.150 sec)\n",
      "INFO:tensorflow:global_step/sec: 685.459\n",
      "INFO:tensorflow:step = 11901, loss = 1.27809e+11 (0.146 sec)\n",
      "INFO:tensorflow:global_step/sec: 669.354\n",
      "INFO:tensorflow:step = 12001, loss = 1.09418e+11 (0.149 sec)\n",
      "INFO:tensorflow:global_step/sec: 685.461\n",
      "INFO:tensorflow:step = 12101, loss = 1.19023e+11 (0.145 sec)\n",
      "INFO:tensorflow:global_step/sec: 651.855\n",
      "INFO:tensorflow:step = 12201, loss = 6.26613e+10 (0.154 sec)\n",
      "INFO:tensorflow:global_step/sec: 676.161\n",
      "INFO:tensorflow:step = 12301, loss = 5.95497e+10 (0.148 sec)\n",
      "INFO:tensorflow:global_step/sec: 664.896\n",
      "INFO:tensorflow:step = 12401, loss = 7.19391e+10 (0.150 sec)\n",
      "INFO:tensorflow:global_step/sec: 615.644\n",
      "INFO:tensorflow:step = 12501, loss = 1.39082e+11 (0.162 sec)\n",
      "INFO:tensorflow:global_step/sec: 667.117\n",
      "INFO:tensorflow:step = 12601, loss = 1.07392e+11 (0.150 sec)\n",
      "INFO:tensorflow:global_step/sec: 680.78\n",
      "INFO:tensorflow:step = 12701, loss = 5.54437e+10 (0.147 sec)\n",
      "INFO:tensorflow:global_step/sec: 667.118\n",
      "INFO:tensorflow:step = 12801, loss = 1.71102e+11 (0.149 sec)\n",
      "INFO:tensorflow:global_step/sec: 673.88\n",
      "INFO:tensorflow:step = 12901, loss = 1.31806e+11 (0.149 sec)\n",
      "INFO:tensorflow:global_step/sec: 667.118\n",
      "INFO:tensorflow:step = 13001, loss = 7.74501e+10 (0.150 sec)\n",
      "INFO:tensorflow:global_step/sec: 667.112\n",
      "INFO:tensorflow:step = 13101, loss = 1.0411e+11 (0.150 sec)\n",
      "INFO:tensorflow:global_step/sec: 673.882\n",
      "INFO:tensorflow:step = 13201, loss = 1.39836e+11 (0.148 sec)\n",
      "INFO:tensorflow:global_step/sec: 662.684\n",
      "INFO:tensorflow:step = 13301, loss = 5.82197e+10 (0.151 sec)\n",
      "INFO:tensorflow:global_step/sec: 611.867\n",
      "INFO:tensorflow:step = 13401, loss = 1.33974e+11 (0.163 sec)\n",
      "INFO:tensorflow:global_step/sec: 673.879\n",
      "INFO:tensorflow:step = 13501, loss = 8.2805e+10 (0.149 sec)\n",
      "INFO:tensorflow:global_step/sec: 667.119\n",
      "INFO:tensorflow:step = 13601, loss = 1.43746e+11 (0.150 sec)\n",
      "INFO:tensorflow:global_step/sec: 671.609\n",
      "INFO:tensorflow:step = 13701, loss = 7.63106e+10 (0.149 sec)\n",
      "INFO:tensorflow:global_step/sec: 669.341\n",
      "INFO:tensorflow:step = 13801, loss = 1.13861e+11 (0.149 sec)\n",
      "INFO:tensorflow:global_step/sec: 671.599\n",
      "INFO:tensorflow:step = 13901, loss = 4.34979e+10 (0.149 sec)\n",
      "INFO:tensorflow:global_step/sec: 664.895\n",
      "INFO:tensorflow:step = 14001, loss = 9.24518e+10 (0.150 sec)\n",
      "INFO:tensorflow:global_step/sec: 673.866\n",
      "INFO:tensorflow:step = 14101, loss = 3.88536e+10 (0.149 sec)\n",
      "INFO:tensorflow:global_step/sec: 653.982\n",
      "INFO:tensorflow:step = 14201, loss = 1.44936e+11 (0.153 sec)\n",
      "INFO:tensorflow:global_step/sec: 609.984\n",
      "INFO:tensorflow:step = 14301, loss = 6.60796e+10 (0.164 sec)\n",
      "INFO:tensorflow:global_step/sec: 673.88\n",
      "INFO:tensorflow:step = 14401, loss = 4.83868e+10 (0.148 sec)\n",
      "INFO:tensorflow:global_step/sec: 654.087\n",
      "INFO:tensorflow:step = 14501, loss = 7.28641e+10 (0.153 sec)\n",
      "INFO:tensorflow:global_step/sec: 660.483\n",
      "INFO:tensorflow:step = 14601, loss = 8.52518e+10 (0.151 sec)\n",
      "INFO:tensorflow:global_step/sec: 660.49\n",
      "INFO:tensorflow:step = 14701, loss = 4.43568e+10 (0.151 sec)\n",
      "INFO:tensorflow:global_step/sec: 673.88\n",
      "INFO:tensorflow:step = 14801, loss = 8.06209e+10 (0.148 sec)\n",
      "INFO:tensorflow:global_step/sec: 673.878\n",
      "INFO:tensorflow:step = 14901, loss = 1.04303e+11 (0.148 sec)\n",
      "INFO:tensorflow:global_step/sec: 671.612\n",
      "INFO:tensorflow:step = 15001, loss = 1.22773e+11 (0.149 sec)\n",
      "INFO:tensorflow:global_step/sec: 637.276\n",
      "INFO:tensorflow:step = 15101, loss = 5.41949e+10 (0.157 sec)\n",
      "INFO:tensorflow:global_step/sec: 637.282\n",
      "INFO:tensorflow:step = 15201, loss = 6.49725e+10 (0.156 sec)\n",
      "INFO:tensorflow:global_step/sec: 671.609\n",
      "INFO:tensorflow:step = 15301, loss = 1.12484e+11 (0.149 sec)\n",
      "INFO:tensorflow:global_step/sec: 667.103\n",
      "INFO:tensorflow:step = 15401, loss = 2.62009e+10 (0.150 sec)\n",
      "INFO:tensorflow:global_step/sec: 676.161\n",
      "INFO:tensorflow:step = 15501, loss = 6.38702e+10 (0.148 sec)\n",
      "INFO:tensorflow:global_step/sec: 662.564\n",
      "INFO:tensorflow:step = 15601, loss = 1.30054e+11 (0.151 sec)\n",
      "INFO:tensorflow:global_step/sec: 669.458\n",
      "INFO:tensorflow:step = 15701, loss = 1.26559e+11 (0.149 sec)\n",
      "INFO:tensorflow:global_step/sec: 678.467\n",
      "INFO:tensorflow:step = 15801, loss = 6.27563e+10 (0.147 sec)\n",
      "INFO:tensorflow:global_step/sec: 667.116\n",
      "INFO:tensorflow:step = 15901, loss = 3.63661e+10 (0.149 sec)\n",
      "INFO:tensorflow:global_step/sec: 625.293\n",
      "INFO:tensorflow:step = 16001, loss = 1.10022e+11 (0.160 sec)\n",
      "INFO:tensorflow:global_step/sec: 649.735\n",
      "INFO:tensorflow:step = 16101, loss = 1.28868e+11 (0.154 sec)\n"
     ]
    },
    {
     "name": "stdout",
     "output_type": "stream",
     "text": [
      "INFO:tensorflow:global_step/sec: 660.481\n",
      "INFO:tensorflow:step = 16201, loss = 3.05991e+10 (0.151 sec)\n",
      "INFO:tensorflow:global_step/sec: 685.456\n",
      "INFO:tensorflow:step = 16301, loss = 1.88008e+11 (0.146 sec)\n",
      "INFO:tensorflow:global_step/sec: 683.115\n",
      "INFO:tensorflow:step = 16401, loss = 1.83709e+11 (0.146 sec)\n",
      "INFO:tensorflow:global_step/sec: 676.163\n",
      "INFO:tensorflow:step = 16501, loss = 1.30615e+11 (0.148 sec)\n",
      "INFO:tensorflow:global_step/sec: 676.163\n",
      "INFO:tensorflow:step = 16601, loss = 1.21363e+11 (0.148 sec)\n",
      "INFO:tensorflow:global_step/sec: 662.686\n",
      "INFO:tensorflow:step = 16701, loss = 5.79005e+10 (0.150 sec)\n",
      "INFO:tensorflow:global_step/sec: 676.164\n",
      "INFO:tensorflow:step = 16801, loss = 2.05555e+11 (0.148 sec)\n",
      "INFO:tensorflow:global_step/sec: 637.28\n",
      "INFO:tensorflow:step = 16901, loss = 1.13958e+11 (0.157 sec)\n",
      "INFO:tensorflow:global_step/sec: 656.145\n",
      "INFO:tensorflow:step = 17001, loss = 1.56865e+11 (0.152 sec)\n",
      "INFO:tensorflow:global_step/sec: 678.463\n",
      "INFO:tensorflow:step = 17101, loss = 1.03525e+11 (0.147 sec)\n",
      "INFO:tensorflow:global_step/sec: 667.119\n",
      "INFO:tensorflow:step = 17201, loss = 1.24523e+11 (0.149 sec)\n",
      "INFO:tensorflow:global_step/sec: 680.779\n",
      "INFO:tensorflow:step = 17301, loss = 5.34006e+10 (0.147 sec)\n",
      "INFO:tensorflow:global_step/sec: 676.151\n",
      "INFO:tensorflow:step = 17401, loss = 1.2656e+11 (0.148 sec)\n",
      "INFO:tensorflow:global_step/sec: 669.369\n",
      "INFO:tensorflow:step = 17501, loss = 6.63956e+10 (0.149 sec)\n",
      "INFO:tensorflow:global_step/sec: 685.458\n",
      "INFO:tensorflow:step = 17601, loss = 1.41557e+11 (0.146 sec)\n",
      "INFO:tensorflow:global_step/sec: 671.611\n",
      "INFO:tensorflow:step = 17701, loss = 6.71941e+10 (0.149 sec)\n",
      "INFO:tensorflow:global_step/sec: 617.548\n",
      "INFO:tensorflow:step = 17801, loss = 9.65344e+10 (0.162 sec)\n",
      "INFO:tensorflow:global_step/sec: 667.091\n",
      "INFO:tensorflow:step = 17901, loss = 7.02002e+10 (0.149 sec)\n",
      "INFO:tensorflow:global_step/sec: 678.466\n",
      "INFO:tensorflow:step = 18001, loss = 8.1741e+10 (0.148 sec)\n",
      "INFO:tensorflow:global_step/sec: 671.61\n",
      "INFO:tensorflow:step = 18101, loss = 8.89474e+10 (0.149 sec)\n",
      "INFO:tensorflow:global_step/sec: 673.877\n",
      "INFO:tensorflow:step = 18201, loss = 9.00486e+10 (0.148 sec)\n",
      "INFO:tensorflow:global_step/sec: 676.167\n",
      "INFO:tensorflow:step = 18301, loss = 1.31469e+11 (0.148 sec)\n",
      "INFO:tensorflow:global_step/sec: 667.118\n",
      "INFO:tensorflow:step = 18401, loss = 7.92592e+10 (0.150 sec)\n",
      "INFO:tensorflow:global_step/sec: 676.165\n",
      "INFO:tensorflow:step = 18501, loss = 9.01399e+10 (0.148 sec)\n",
      "INFO:tensorflow:global_step/sec: 662.686\n",
      "INFO:tensorflow:step = 18601, loss = 1.3865e+11 (0.151 sec)\n",
      "INFO:tensorflow:global_step/sec: 615.641\n",
      "INFO:tensorflow:step = 18701, loss = 1.03642e+11 (0.162 sec)\n",
      "INFO:tensorflow:global_step/sec: 673.878\n",
      "INFO:tensorflow:step = 18801, loss = 1.34628e+11 (0.148 sec)\n",
      "INFO:tensorflow:global_step/sec: 671.602\n",
      "INFO:tensorflow:step = 18901, loss = 1.15692e+11 (0.149 sec)\n",
      "INFO:tensorflow:global_step/sec: 671.61\n",
      "INFO:tensorflow:step = 19001, loss = 4.5566e+10 (0.149 sec)\n",
      "INFO:tensorflow:global_step/sec: 680.781\n",
      "INFO:tensorflow:step = 19101, loss = 8.53202e+10 (0.147 sec)\n",
      "INFO:tensorflow:global_step/sec: 683.097\n",
      "INFO:tensorflow:step = 19201, loss = 1.75635e+11 (0.146 sec)\n",
      "INFO:tensorflow:global_step/sec: 669.352\n",
      "INFO:tensorflow:step = 19301, loss = 1.45976e+11 (0.149 sec)\n",
      "INFO:tensorflow:global_step/sec: 683.111\n",
      "INFO:tensorflow:step = 19401, loss = 8.82003e+10 (0.146 sec)\n",
      "INFO:tensorflow:global_step/sec: 645.53\n",
      "INFO:tensorflow:step = 19501, loss = 5.50821e+10 (0.155 sec)\n",
      "INFO:tensorflow:global_step/sec: 619.465\n",
      "INFO:tensorflow:step = 19601, loss = 7.29649e+10 (0.161 sec)\n",
      "INFO:tensorflow:global_step/sec: 680.781\n",
      "INFO:tensorflow:step = 19701, loss = 1.03718e+11 (0.147 sec)\n",
      "INFO:tensorflow:global_step/sec: 678.465\n",
      "INFO:tensorflow:step = 19801, loss = 9.0983e+10 (0.147 sec)\n",
      "INFO:tensorflow:global_step/sec: 664.88\n",
      "INFO:tensorflow:step = 19901, loss = 6.34958e+10 (0.150 sec)\n",
      "INFO:tensorflow:global_step/sec: 671.593\n",
      "INFO:tensorflow:step = 20001, loss = 7.29011e+10 (0.149 sec)\n",
      "INFO:tensorflow:global_step/sec: 678.463\n",
      "INFO:tensorflow:step = 20101, loss = 7.10435e+10 (0.147 sec)\n",
      "INFO:tensorflow:global_step/sec: 683.08\n",
      "INFO:tensorflow:step = 20201, loss = 3.92134e+10 (0.146 sec)\n",
      "INFO:tensorflow:global_step/sec: 669.356\n",
      "INFO:tensorflow:step = 20301, loss = 8.98195e+10 (0.149 sec)\n",
      "INFO:tensorflow:global_step/sec: 653.993\n",
      "INFO:tensorflow:step = 20401, loss = 1.09406e+11 (0.153 sec)\n",
      "INFO:tensorflow:global_step/sec: 623.339\n",
      "INFO:tensorflow:step = 20501, loss = 2.47776e+11 (0.160 sec)\n",
      "INFO:tensorflow:global_step/sec: 671.611\n",
      "INFO:tensorflow:step = 20601, loss = 1.17861e+11 (0.149 sec)\n",
      "INFO:tensorflow:global_step/sec: 671.612\n",
      "INFO:tensorflow:step = 20701, loss = 1.22166e+11 (0.148 sec)\n",
      "INFO:tensorflow:global_step/sec: 678.463\n",
      "INFO:tensorflow:step = 20801, loss = 8.55185e+10 (0.148 sec)\n",
      "INFO:tensorflow:global_step/sec: 667.118\n",
      "INFO:tensorflow:step = 20901, loss = 8.71972e+10 (0.150 sec)\n",
      "INFO:tensorflow:global_step/sec: 673.88\n",
      "INFO:tensorflow:step = 21001, loss = 5.74192e+10 (0.148 sec)\n",
      "INFO:tensorflow:global_step/sec: 678.464\n",
      "INFO:tensorflow:step = 21101, loss = 1.38993e+11 (0.147 sec)\n",
      "INFO:tensorflow:global_step/sec: 669.357\n",
      "INFO:tensorflow:step = 21201, loss = 1.19078e+11 (0.150 sec)\n",
      "INFO:tensorflow:global_step/sec: 629.235\n",
      "INFO:tensorflow:step = 21301, loss = 4.69408e+10 (0.158 sec)\n",
      "INFO:tensorflow:global_step/sec: 639.324\n",
      "INFO:tensorflow:step = 21401, loss = 8.83013e+10 (0.157 sec)\n",
      "INFO:tensorflow:global_step/sec: 671.612\n",
      "INFO:tensorflow:step = 21501, loss = 1.1924e+11 (0.149 sec)\n",
      "INFO:tensorflow:global_step/sec: 667.101\n",
      "INFO:tensorflow:step = 21601, loss = 5.66231e+10 (0.150 sec)\n",
      "INFO:tensorflow:global_step/sec: 667.117\n",
      "INFO:tensorflow:step = 21701, loss = 1.924e+11 (0.150 sec)\n",
      "INFO:tensorflow:global_step/sec: 671.614\n",
      "INFO:tensorflow:step = 21801, loss = 6.78586e+10 (0.149 sec)\n",
      "INFO:tensorflow:global_step/sec: 673.876\n",
      "INFO:tensorflow:step = 21901, loss = 1.24602e+11 (0.148 sec)\n",
      "INFO:tensorflow:global_step/sec: 678.465\n",
      "INFO:tensorflow:step = 22001, loss = 1.64181e+11 (0.147 sec)\n",
      "INFO:tensorflow:global_step/sec: 683.113\n",
      "INFO:tensorflow:step = 22101, loss = 8.47417e+10 (0.147 sec)\n",
      "INFO:tensorflow:global_step/sec: 619.465\n",
      "INFO:tensorflow:step = 22201, loss = 6.85675e+10 (0.161 sec)\n",
      "INFO:tensorflow:global_step/sec: 643.447\n",
      "INFO:tensorflow:step = 22301, loss = 7.44498e+10 (0.155 sec)\n",
      "INFO:tensorflow:global_step/sec: 658.298\n",
      "INFO:tensorflow:step = 22401, loss = 7.87e+10 (0.151 sec)\n",
      "INFO:tensorflow:global_step/sec: 669.343\n",
      "INFO:tensorflow:step = 22501, loss = 1.11396e+11 (0.150 sec)\n",
      "INFO:tensorflow:global_step/sec: 669.355\n",
      "INFO:tensorflow:step = 22601, loss = 5.56336e+10 (0.149 sec)\n",
      "INFO:tensorflow:global_step/sec: 673.88\n",
      "INFO:tensorflow:step = 22701, loss = 1.38838e+11 (0.149 sec)\n",
      "INFO:tensorflow:global_step/sec: 673.879\n",
      "INFO:tensorflow:step = 22801, loss = 1.20702e+11 (0.148 sec)\n",
      "INFO:tensorflow:global_step/sec: 662.739\n",
      "INFO:tensorflow:step = 22901, loss = 1.34259e+11 (0.151 sec)\n",
      "INFO:tensorflow:global_step/sec: 673.878\n",
      "INFO:tensorflow:step = 23001, loss = 7.11723e+10 (0.148 sec)\n",
      "INFO:tensorflow:global_step/sec: 613.749\n",
      "INFO:tensorflow:step = 23101, loss = 7.58483e+10 (0.163 sec)\n",
      "INFO:tensorflow:global_step/sec: 660.491\n",
      "INFO:tensorflow:step = 23201, loss = 1.92337e+11 (0.151 sec)\n",
      "INFO:tensorflow:global_step/sec: 664.896\n",
      "INFO:tensorflow:step = 23301, loss = 7.07594e+10 (0.151 sec)\n",
      "INFO:tensorflow:global_step/sec: 673.878\n",
      "INFO:tensorflow:step = 23401, loss = 5.36163e+10 (0.148 sec)\n",
      "INFO:tensorflow:global_step/sec: 673.879\n",
      "INFO:tensorflow:step = 23501, loss = 1.48012e+11 (0.148 sec)\n",
      "INFO:tensorflow:global_step/sec: 667.114\n",
      "INFO:tensorflow:step = 23601, loss = 1.19497e+11 (0.150 sec)\n",
      "INFO:tensorflow:global_step/sec: 664.898\n",
      "INFO:tensorflow:step = 23701, loss = 1.90323e+11 (0.150 sec)\n",
      "INFO:tensorflow:global_step/sec: 678.465\n",
      "INFO:tensorflow:step = 23801, loss = 3.08241e+10 (0.147 sec)\n",
      "INFO:tensorflow:global_step/sec: 651.856\n",
      "INFO:tensorflow:step = 23901, loss = 8.0755e+10 (0.153 sec)\n",
      "INFO:tensorflow:global_step/sec: 606.287\n",
      "INFO:tensorflow:step = 24001, loss = 4.11171e+10 (0.165 sec)\n",
      "INFO:tensorflow:global_step/sec: 653.993\n",
      "INFO:tensorflow:step = 24101, loss = 1.44191e+11 (0.152 sec)\n",
      "INFO:tensorflow:global_step/sec: 664.898\n",
      "INFO:tensorflow:step = 24201, loss = 7.857e+10 (0.151 sec)\n"
     ]
    },
    {
     "name": "stdout",
     "output_type": "stream",
     "text": [
      "INFO:tensorflow:global_step/sec: 651.856\n",
      "INFO:tensorflow:step = 24301, loss = 7.52043e+10 (0.153 sec)\n",
      "INFO:tensorflow:global_step/sec: 676.164\n",
      "INFO:tensorflow:step = 24401, loss = 1.08424e+11 (0.147 sec)\n",
      "INFO:tensorflow:global_step/sec: 669.356\n",
      "INFO:tensorflow:step = 24501, loss = 9.23162e+10 (0.150 sec)\n",
      "INFO:tensorflow:global_step/sec: 680.779\n",
      "INFO:tensorflow:step = 24601, loss = 5.40436e+10 (0.147 sec)\n",
      "INFO:tensorflow:global_step/sec: 683.097\n",
      "INFO:tensorflow:step = 24701, loss = 8.55543e+10 (0.146 sec)\n",
      "INFO:tensorflow:global_step/sec: 653.971\n",
      "INFO:tensorflow:step = 24801, loss = 1.211e+11 (0.153 sec)\n",
      "INFO:tensorflow:global_step/sec: 629.241\n",
      "INFO:tensorflow:step = 24901, loss = 6.22166e+10 (0.159 sec)\n",
      "INFO:tensorflow:Saving checkpoints for 25000 into C:\\Users\\Marcial\\AppData\\Local\\Temp\\tmp244d0d44\\model.ckpt.\n",
      "INFO:tensorflow:Loss for final step: 8.48849e+10.\n"
     ]
    },
    {
     "data": {
      "text/plain": [
       "<tensorflow.python.estimator.canned.dnn.DNNRegressor at 0x21cd41ab048>"
      ]
     },
     "execution_count": 144,
     "metadata": {},
     "output_type": "execute_result"
    }
   ],
   "source": [
    "model.train(input_fn=input_func,steps=25000)"
   ]
  },
  {
   "cell_type": "markdown",
   "metadata": {},
   "source": [
    "** Create a prediction input function and then use the .predict method off your estimator model to create a list or predictions on your test data. **"
   ]
  },
  {
   "cell_type": "code",
   "execution_count": 153,
   "metadata": {},
   "outputs": [],
   "source": [
    "predict_input_func = tf.estimator.inputs.pandas_input_fn(\n",
    "      x=X_test,\n",
    "      batch_size=10,\n",
    "      num_epochs=1,\n",
    "      shuffle=False)"
   ]
  },
  {
   "cell_type": "code",
   "execution_count": 154,
   "metadata": {
    "collapsed": true
   },
   "outputs": [],
   "source": [
    "pred_gen = model.predict(predict_input_func)"
   ]
  },
  {
   "cell_type": "code",
   "execution_count": 155,
   "metadata": {},
   "outputs": [
    {
     "name": "stdout",
     "output_type": "stream",
     "text": [
      "INFO:tensorflow:Restoring parameters from C:\\Users\\Marcial\\AppData\\Local\\Temp\\tmp244d0d44\\model.ckpt-25000\n"
     ]
    }
   ],
   "source": [
    "predictions = list(pred_gen)"
   ]
  },
  {
   "cell_type": "markdown",
   "metadata": {},
   "source": [
    "** Calculate the RMSE. Do this manually or use [sklearn.metrics](http://scikit-learn.org/stable/modules/generated/sklearn.metrics.mean_squared_error.html) **"
   ]
  },
  {
   "cell_type": "code",
   "execution_count": 156,
   "metadata": {
    "collapsed": true
   },
   "outputs": [],
   "source": [
    "final_preds = []\n",
    "for pred in predictions:\n",
    "    final_preds.append(pred['predictions'])"
   ]
  },
  {
   "cell_type": "code",
   "execution_count": 157,
   "metadata": {
    "collapsed": true
   },
   "outputs": [],
   "source": [
    "from sklearn.metrics import mean_squared_error"
   ]
  },
  {
   "cell_type": "code",
   "execution_count": 158,
   "metadata": {},
   "outputs": [
    {
     "data": {
      "text/plain": [
       "97921.93181985477"
      ]
     },
     "execution_count": 158,
     "metadata": {},
     "output_type": "execute_result"
    }
   ],
   "source": [
    "mean_squared_error(y_test,final_preds)**0.5"
   ]
  },
  {
   "cell_type": "markdown",
   "metadata": {},
   "source": [
    "# Great Job!"
   ]
  }
 ],
 "metadata": {
  "kernelspec": {
   "display_name": "Python 3",
   "language": "python",
   "name": "python3"
  },
  "language_info": {
   "codemirror_mode": {
    "name": "ipython",
    "version": 3
   },
   "file_extension": ".py",
   "mimetype": "text/x-python",
   "name": "python",
   "nbconvert_exporter": "python",
   "pygments_lexer": "ipython3",
   "version": "3.5.4"
  }
 },
 "nbformat": 4,
 "nbformat_minor": 2
}
